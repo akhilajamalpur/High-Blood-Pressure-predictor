{
  "nbformat": 4,
  "nbformat_minor": 0,
  "metadata": {
    "colab": {
      "name": "HBP_binary classification.ipynb",
      "provenance": [],
      "collapsed_sections": []
    },
    "kernelspec": {
      "name": "python3",
      "display_name": "Python 3"
    }
  },
  "cells": [
    {
      "cell_type": "code",
      "metadata": {
        "id": "SueUDCtMrLTo"
      },
      "source": [
        "import warnings\r\n",
        "warnings.filterwarnings('ignore')"
      ],
      "execution_count": 62,
      "outputs": []
    },
    {
      "cell_type": "markdown",
      "metadata": {
        "id": "WsHAgHZ8V_xI"
      },
      "source": [
        "First,  import Sequential,Dense, Adam from keras and we import numpy and pandas  "
      ]
    },
    {
      "cell_type": "code",
      "metadata": {
        "id": "PPVl2cIerrri"
      },
      "source": [
        "import numpy as np\r\n",
        "import keras\r\n",
        "from keras.models import Sequential\r\n",
        "from keras.layers import Dense\r\n",
        "from keras.optimizers import Adam\r\n",
        "import pandas as pd"
      ],
      "execution_count": 63,
      "outputs": []
    },
    {
      "cell_type": "markdown",
      "metadata": {
        "id": "Ic4dIrJyWmc0"
      },
      "source": [
        "Here, in this section we are reading the dataset and storing it in to the data variable.\r\n",
        "\r\n",
        "\r\n",
        "\r\n"
      ]
    },
    {
      "cell_type": "code",
      "metadata": {
        "colab": {
          "base_uri": "https://localhost:8080/",
          "height": 222
        },
        "id": "zNrSOUXcsXhw",
        "outputId": "8025b6a5-2dad-4560-cf8a-b3e6000688d7"
      },
      "source": [
        "data=pd.read_csv(\"one.csv\")\r\n",
        "data.head()"
      ],
      "execution_count": 64,
      "outputs": [
        {
          "output_type": "execute_result",
          "data": {
            "text/html": [
              "<div>\n",
              "<style scoped>\n",
              "    .dataframe tbody tr th:only-of-type {\n",
              "        vertical-align: middle;\n",
              "    }\n",
              "\n",
              "    .dataframe tbody tr th {\n",
              "        vertical-align: top;\n",
              "    }\n",
              "\n",
              "    .dataframe thead th {\n",
              "        text-align: right;\n",
              "    }\n",
              "</style>\n",
              "<table border=\"1\" class=\"dataframe\">\n",
              "  <thead>\n",
              "    <tr style=\"text-align: right;\">\n",
              "      <th></th>\n",
              "      <th>Patient_Number</th>\n",
              "      <th>Blood_Pressure_Abnormality</th>\n",
              "      <th>Level_of_Hemoglobin</th>\n",
              "      <th>Genetic_Pedigree_Coefficient</th>\n",
              "      <th>Age</th>\n",
              "      <th>BMI</th>\n",
              "      <th>Sex</th>\n",
              "      <th>Smoking</th>\n",
              "      <th>Physical_activity</th>\n",
              "      <th>salt_content_in_the_diet</th>\n",
              "      <th>alcohol_consumption_per_day</th>\n",
              "      <th>Level_of_Stress</th>\n",
              "      <th>Chronic_kidney_disease</th>\n",
              "      <th>Adrenal_and_thyroid_disorders</th>\n",
              "    </tr>\n",
              "  </thead>\n",
              "  <tbody>\n",
              "    <tr>\n",
              "      <th>0</th>\n",
              "      <td>1</td>\n",
              "      <td>1</td>\n",
              "      <td>11.28</td>\n",
              "      <td>0.90</td>\n",
              "      <td>34</td>\n",
              "      <td>23</td>\n",
              "      <td>1</td>\n",
              "      <td>0</td>\n",
              "      <td>45961</td>\n",
              "      <td>48071</td>\n",
              "      <td>NaN</td>\n",
              "      <td>2</td>\n",
              "      <td>1</td>\n",
              "      <td>1</td>\n",
              "    </tr>\n",
              "    <tr>\n",
              "      <th>1</th>\n",
              "      <td>2</td>\n",
              "      <td>0</td>\n",
              "      <td>9.75</td>\n",
              "      <td>0.23</td>\n",
              "      <td>54</td>\n",
              "      <td>33</td>\n",
              "      <td>1</td>\n",
              "      <td>0</td>\n",
              "      <td>26106</td>\n",
              "      <td>25333</td>\n",
              "      <td>205.0</td>\n",
              "      <td>3</td>\n",
              "      <td>0</td>\n",
              "      <td>0</td>\n",
              "    </tr>\n",
              "    <tr>\n",
              "      <th>2</th>\n",
              "      <td>3</td>\n",
              "      <td>1</td>\n",
              "      <td>10.79</td>\n",
              "      <td>0.91</td>\n",
              "      <td>70</td>\n",
              "      <td>49</td>\n",
              "      <td>0</td>\n",
              "      <td>0</td>\n",
              "      <td>9995</td>\n",
              "      <td>29465</td>\n",
              "      <td>67.0</td>\n",
              "      <td>2</td>\n",
              "      <td>1</td>\n",
              "      <td>0</td>\n",
              "    </tr>\n",
              "    <tr>\n",
              "      <th>3</th>\n",
              "      <td>4</td>\n",
              "      <td>0</td>\n",
              "      <td>11.00</td>\n",
              "      <td>0.43</td>\n",
              "      <td>71</td>\n",
              "      <td>50</td>\n",
              "      <td>0</td>\n",
              "      <td>0</td>\n",
              "      <td>10635</td>\n",
              "      <td>7439</td>\n",
              "      <td>242.0</td>\n",
              "      <td>1</td>\n",
              "      <td>1</td>\n",
              "      <td>0</td>\n",
              "    </tr>\n",
              "    <tr>\n",
              "      <th>4</th>\n",
              "      <td>5</td>\n",
              "      <td>1</td>\n",
              "      <td>14.17</td>\n",
              "      <td>0.83</td>\n",
              "      <td>52</td>\n",
              "      <td>19</td>\n",
              "      <td>0</td>\n",
              "      <td>0</td>\n",
              "      <td>15619</td>\n",
              "      <td>49644</td>\n",
              "      <td>397.0</td>\n",
              "      <td>2</td>\n",
              "      <td>0</td>\n",
              "      <td>0</td>\n",
              "    </tr>\n",
              "  </tbody>\n",
              "</table>\n",
              "</div>"
            ],
            "text/plain": [
              "   Patient_Number  ...  Adrenal_and_thyroid_disorders\n",
              "0               1  ...                              1\n",
              "1               2  ...                              0\n",
              "2               3  ...                              0\n",
              "3               4  ...                              0\n",
              "4               5  ...                              0\n",
              "\n",
              "[5 rows x 14 columns]"
            ]
          },
          "metadata": {
            "tags": []
          },
          "execution_count": 64
        }
      ]
    },
    {
      "cell_type": "markdown",
      "metadata": {
        "id": "yTNO_BkGW7Oc"
      },
      "source": [
        "The dataset consists of 2000 rows and 14 columns."
      ]
    },
    {
      "cell_type": "code",
      "metadata": {
        "colab": {
          "base_uri": "https://localhost:8080/"
        },
        "id": "Ry3B1XMQsXlD",
        "outputId": "e32d48a7-1655-4acc-fca0-4239966662e8"
      },
      "source": [
        "data.shape"
      ],
      "execution_count": 65,
      "outputs": [
        {
          "output_type": "execute_result",
          "data": {
            "text/plain": [
              "(2000, 14)"
            ]
          },
          "metadata": {
            "tags": []
          },
          "execution_count": 65
        }
      ]
    },
    {
      "cell_type": "markdown",
      "metadata": {
        "id": "nj_5Hwm2Xt22"
      },
      "source": [
        "Next, check for the Nan values in the dataset."
      ]
    },
    {
      "cell_type": "code",
      "metadata": {
        "colab": {
          "base_uri": "https://localhost:8080/"
        },
        "id": "cDNiB73isjZ_",
        "outputId": "bd981560-8034-4bb9-ffad-34197a03f498"
      },
      "source": [
        "data.isnull().any()"
      ],
      "execution_count": 66,
      "outputs": [
        {
          "output_type": "execute_result",
          "data": {
            "text/plain": [
              "Patient_Number                   False\n",
              "Blood_Pressure_Abnormality       False\n",
              "Level_of_Hemoglobin              False\n",
              "Genetic_Pedigree_Coefficient      True\n",
              "Age                              False\n",
              "BMI                              False\n",
              "Sex                              False\n",
              "Smoking                          False\n",
              "Physical_activity                False\n",
              "salt_content_in_the_diet         False\n",
              "alcohol_consumption_per_day       True\n",
              "Level_of_Stress                  False\n",
              "Chronic_kidney_disease           False\n",
              "Adrenal_and_thyroid_disorders    False\n",
              "dtype: bool"
            ]
          },
          "metadata": {
            "tags": []
          },
          "execution_count": 66
        }
      ]
    },
    {
      "cell_type": "markdown",
      "metadata": {
        "id": "4MBtQfFiX_8R"
      },
      "source": [
        "After checking Nan values as you can see in the above output Genetic_Pedigree_Coefficient,alcohol_consumption_per_day consist of Nan values so, replace those Nan values with mean values. "
      ]
    },
    {
      "cell_type": "code",
      "metadata": {
        "colab": {
          "base_uri": "https://localhost:8080/",
          "height": 435
        },
        "id": "Xj7pK6p_sqzp",
        "outputId": "7aa2319a-303f-4f9e-a082-6aa1bb45d875"
      },
      "source": [
        "data=data.fillna(data.mean())\r\n",
        "data"
      ],
      "execution_count": 67,
      "outputs": [
        {
          "output_type": "execute_result",
          "data": {
            "text/html": [
              "<div>\n",
              "<style scoped>\n",
              "    .dataframe tbody tr th:only-of-type {\n",
              "        vertical-align: middle;\n",
              "    }\n",
              "\n",
              "    .dataframe tbody tr th {\n",
              "        vertical-align: top;\n",
              "    }\n",
              "\n",
              "    .dataframe thead th {\n",
              "        text-align: right;\n",
              "    }\n",
              "</style>\n",
              "<table border=\"1\" class=\"dataframe\">\n",
              "  <thead>\n",
              "    <tr style=\"text-align: right;\">\n",
              "      <th></th>\n",
              "      <th>Patient_Number</th>\n",
              "      <th>Blood_Pressure_Abnormality</th>\n",
              "      <th>Level_of_Hemoglobin</th>\n",
              "      <th>Genetic_Pedigree_Coefficient</th>\n",
              "      <th>Age</th>\n",
              "      <th>BMI</th>\n",
              "      <th>Sex</th>\n",
              "      <th>Smoking</th>\n",
              "      <th>Physical_activity</th>\n",
              "      <th>salt_content_in_the_diet</th>\n",
              "      <th>alcohol_consumption_per_day</th>\n",
              "      <th>Level_of_Stress</th>\n",
              "      <th>Chronic_kidney_disease</th>\n",
              "      <th>Adrenal_and_thyroid_disorders</th>\n",
              "    </tr>\n",
              "  </thead>\n",
              "  <tbody>\n",
              "    <tr>\n",
              "      <th>0</th>\n",
              "      <td>1</td>\n",
              "      <td>1</td>\n",
              "      <td>11.28</td>\n",
              "      <td>0.90</td>\n",
              "      <td>34</td>\n",
              "      <td>23</td>\n",
              "      <td>1</td>\n",
              "      <td>0</td>\n",
              "      <td>45961</td>\n",
              "      <td>48071</td>\n",
              "      <td>251.008532</td>\n",
              "      <td>2</td>\n",
              "      <td>1</td>\n",
              "      <td>1</td>\n",
              "    </tr>\n",
              "    <tr>\n",
              "      <th>1</th>\n",
              "      <td>2</td>\n",
              "      <td>0</td>\n",
              "      <td>9.75</td>\n",
              "      <td>0.23</td>\n",
              "      <td>54</td>\n",
              "      <td>33</td>\n",
              "      <td>1</td>\n",
              "      <td>0</td>\n",
              "      <td>26106</td>\n",
              "      <td>25333</td>\n",
              "      <td>205.000000</td>\n",
              "      <td>3</td>\n",
              "      <td>0</td>\n",
              "      <td>0</td>\n",
              "    </tr>\n",
              "    <tr>\n",
              "      <th>2</th>\n",
              "      <td>3</td>\n",
              "      <td>1</td>\n",
              "      <td>10.79</td>\n",
              "      <td>0.91</td>\n",
              "      <td>70</td>\n",
              "      <td>49</td>\n",
              "      <td>0</td>\n",
              "      <td>0</td>\n",
              "      <td>9995</td>\n",
              "      <td>29465</td>\n",
              "      <td>67.000000</td>\n",
              "      <td>2</td>\n",
              "      <td>1</td>\n",
              "      <td>0</td>\n",
              "    </tr>\n",
              "    <tr>\n",
              "      <th>3</th>\n",
              "      <td>4</td>\n",
              "      <td>0</td>\n",
              "      <td>11.00</td>\n",
              "      <td>0.43</td>\n",
              "      <td>71</td>\n",
              "      <td>50</td>\n",
              "      <td>0</td>\n",
              "      <td>0</td>\n",
              "      <td>10635</td>\n",
              "      <td>7439</td>\n",
              "      <td>242.000000</td>\n",
              "      <td>1</td>\n",
              "      <td>1</td>\n",
              "      <td>0</td>\n",
              "    </tr>\n",
              "    <tr>\n",
              "      <th>4</th>\n",
              "      <td>5</td>\n",
              "      <td>1</td>\n",
              "      <td>14.17</td>\n",
              "      <td>0.83</td>\n",
              "      <td>52</td>\n",
              "      <td>19</td>\n",
              "      <td>0</td>\n",
              "      <td>0</td>\n",
              "      <td>15619</td>\n",
              "      <td>49644</td>\n",
              "      <td>397.000000</td>\n",
              "      <td>2</td>\n",
              "      <td>0</td>\n",
              "      <td>0</td>\n",
              "    </tr>\n",
              "    <tr>\n",
              "      <th>...</th>\n",
              "      <td>...</td>\n",
              "      <td>...</td>\n",
              "      <td>...</td>\n",
              "      <td>...</td>\n",
              "      <td>...</td>\n",
              "      <td>...</td>\n",
              "      <td>...</td>\n",
              "      <td>...</td>\n",
              "      <td>...</td>\n",
              "      <td>...</td>\n",
              "      <td>...</td>\n",
              "      <td>...</td>\n",
              "      <td>...</td>\n",
              "      <td>...</td>\n",
              "    </tr>\n",
              "    <tr>\n",
              "      <th>1995</th>\n",
              "      <td>1996</td>\n",
              "      <td>1</td>\n",
              "      <td>10.14</td>\n",
              "      <td>0.02</td>\n",
              "      <td>69</td>\n",
              "      <td>26</td>\n",
              "      <td>1</td>\n",
              "      <td>1</td>\n",
              "      <td>26118</td>\n",
              "      <td>47568</td>\n",
              "      <td>144.000000</td>\n",
              "      <td>3</td>\n",
              "      <td>1</td>\n",
              "      <td>0</td>\n",
              "    </tr>\n",
              "    <tr>\n",
              "      <th>1996</th>\n",
              "      <td>1997</td>\n",
              "      <td>1</td>\n",
              "      <td>11.77</td>\n",
              "      <td>1.00</td>\n",
              "      <td>24</td>\n",
              "      <td>45</td>\n",
              "      <td>1</td>\n",
              "      <td>1</td>\n",
              "      <td>2572</td>\n",
              "      <td>8063</td>\n",
              "      <td>251.008532</td>\n",
              "      <td>3</td>\n",
              "      <td>1</td>\n",
              "      <td>1</td>\n",
              "    </tr>\n",
              "    <tr>\n",
              "      <th>1997</th>\n",
              "      <td>1998</td>\n",
              "      <td>1</td>\n",
              "      <td>16.91</td>\n",
              "      <td>0.22</td>\n",
              "      <td>18</td>\n",
              "      <td>42</td>\n",
              "      <td>0</td>\n",
              "      <td>0</td>\n",
              "      <td>14933</td>\n",
              "      <td>24753</td>\n",
              "      <td>251.008532</td>\n",
              "      <td>2</td>\n",
              "      <td>1</td>\n",
              "      <td>1</td>\n",
              "    </tr>\n",
              "    <tr>\n",
              "      <th>1998</th>\n",
              "      <td>1999</td>\n",
              "      <td>0</td>\n",
              "      <td>11.15</td>\n",
              "      <td>0.72</td>\n",
              "      <td>46</td>\n",
              "      <td>45</td>\n",
              "      <td>1</td>\n",
              "      <td>1</td>\n",
              "      <td>18157</td>\n",
              "      <td>15275</td>\n",
              "      <td>253.000000</td>\n",
              "      <td>3</td>\n",
              "      <td>0</td>\n",
              "      <td>1</td>\n",
              "    </tr>\n",
              "    <tr>\n",
              "      <th>1999</th>\n",
              "      <td>2000</td>\n",
              "      <td>1</td>\n",
              "      <td>11.36</td>\n",
              "      <td>0.09</td>\n",
              "      <td>41</td>\n",
              "      <td>45</td>\n",
              "      <td>0</td>\n",
              "      <td>0</td>\n",
              "      <td>20729</td>\n",
              "      <td>30463</td>\n",
              "      <td>230.000000</td>\n",
              "      <td>1</td>\n",
              "      <td>1</td>\n",
              "      <td>0</td>\n",
              "    </tr>\n",
              "  </tbody>\n",
              "</table>\n",
              "<p>2000 rows × 14 columns</p>\n",
              "</div>"
            ],
            "text/plain": [
              "      Patient_Number  ...  Adrenal_and_thyroid_disorders\n",
              "0                  1  ...                              1\n",
              "1                  2  ...                              0\n",
              "2                  3  ...                              0\n",
              "3                  4  ...                              0\n",
              "4                  5  ...                              0\n",
              "...              ...  ...                            ...\n",
              "1995            1996  ...                              0\n",
              "1996            1997  ...                              1\n",
              "1997            1998  ...                              1\n",
              "1998            1999  ...                              1\n",
              "1999            2000  ...                              0\n",
              "\n",
              "[2000 rows x 14 columns]"
            ]
          },
          "metadata": {
            "tags": []
          },
          "execution_count": 67
        }
      ]
    },
    {
      "cell_type": "markdown",
      "metadata": {
        "id": "VNK-LI6jYqIK"
      },
      "source": [
        "Next, import MinMaxScaler.\r\n",
        "Minmaxscaler is used to translate each feature individually between 0 to 1.Next fit transform is formed."
      ]
    },
    {
      "cell_type": "code",
      "metadata": {
        "colab": {
          "base_uri": "https://localhost:8080/"
        },
        "id": "3pd4sXmjszXe",
        "outputId": "b2e19a27-2047-49b9-b027-14ab25debd0e"
      },
      "source": [
        "from sklearn.preprocessing import MinMaxScaler\r\n",
        "ms=MinMaxScaler()\r\n",
        "data=ms.fit_transform(data)\r\n",
        "print(data)\r\n",
        "print(data.shape)"
      ],
      "execution_count": 68,
      "outputs": [
        {
          "output_type": "stream",
          "text": [
            "[[0.00000000e+00 1.00000000e+00 3.36152220e-01 ... 5.00000000e-01\n",
            "  1.00000000e+00 1.00000000e+00]\n",
            " [5.00250125e-04 0.00000000e+00 1.74418605e-01 ... 1.00000000e+00\n",
            "  0.00000000e+00 0.00000000e+00]\n",
            " [1.00050025e-03 1.00000000e+00 2.84355180e-01 ... 5.00000000e-01\n",
            "  1.00000000e+00 0.00000000e+00]\n",
            " ...\n",
            " [9.98999500e-01 1.00000000e+00 9.31289641e-01 ... 5.00000000e-01\n",
            "  1.00000000e+00 1.00000000e+00]\n",
            " [9.99499750e-01 0.00000000e+00 3.22410148e-01 ... 1.00000000e+00\n",
            "  0.00000000e+00 1.00000000e+00]\n",
            " [1.00000000e+00 1.00000000e+00 3.44608879e-01 ... 0.00000000e+00\n",
            "  1.00000000e+00 0.00000000e+00]]\n",
            "(2000, 14)\n"
          ],
          "name": "stdout"
        }
      ]
    },
    {
      "cell_type": "markdown",
      "metadata": {
        "id": "jFX3PvO6bT-3"
      },
      "source": [
        "Next, Data frame is created.It is two dimensional datastructure i.e., data is aligned in the tabular format. "
      ]
    },
    {
      "cell_type": "code",
      "metadata": {
        "id": "MeON0nHHt8-w"
      },
      "source": [
        "dataset=pd.DataFrame(data=data[0:,0:])"
      ],
      "execution_count": 69,
      "outputs": []
    },
    {
      "cell_type": "markdown",
      "metadata": {
        "id": "6KaR1myIcC7s"
      },
      "source": [
        "X contains the data from 2 to 14 as inputs\r\n",
        "and Y contains the 1st column as output.\r\n"
      ]
    },
    {
      "cell_type": "code",
      "metadata": {
        "id": "c-F3UXJ_udTg"
      },
      "source": [
        "X=dataset.iloc[:,2:].values\r\n",
        "Y=dataset.iloc[:,1:2].values"
      ],
      "execution_count": 70,
      "outputs": []
    },
    {
      "cell_type": "markdown",
      "metadata": {
        "id": "-Kgr2slmcqK-"
      },
      "source": [
        "Here, train_test_split is imported.Next, training and testing is performed on X and Y to split the data."
      ]
    },
    {
      "cell_type": "code",
      "metadata": {
        "id": "d4obvrE1wtSH"
      },
      "source": [
        "from sklearn.model_selection import train_test_split\r\n",
        "X_train, X_test, y_train, y_test = train_test_split(X, Y, test_size=0.2,random_state=0)"
      ],
      "execution_count": 71,
      "outputs": []
    },
    {
      "cell_type": "code",
      "metadata": {
        "colab": {
          "base_uri": "https://localhost:8080/"
        },
        "id": "zyhp4fVHyze-",
        "outputId": "27452e88-a62c-4b37-edbc-ba2aca3df96f"
      },
      "source": [
        "print(y_test[0:5])"
      ],
      "execution_count": 72,
      "outputs": [
        {
          "output_type": "stream",
          "text": [
            "[[0.]\n",
            " [1.]\n",
            " [0.]\n",
            " [0.]\n",
            " [0.]]\n"
          ],
          "name": "stdout"
        }
      ]
    },
    {
      "cell_type": "code",
      "metadata": {
        "colab": {
          "base_uri": "https://localhost:8080/"
        },
        "id": "5ju-BulZy-Yx",
        "outputId": "b88c5d5a-c9a8-453e-cf7d-86a242ef27db"
      },
      "source": [
        "print(X_train)"
      ],
      "execution_count": 73,
      "outputs": [
        {
          "output_type": "stream",
          "text": [
            "[[0.34249471 0.68       0.64912281 ... 0.5        1.         1.        ]\n",
            " [0.89429175 0.29       0.19298246 ... 0.         0.         1.        ]\n",
            " [0.95560254 0.86       0.28070175 ... 0.5        0.         1.        ]\n",
            " ...\n",
            " [0.44397463 0.96       0.57894737 ... 0.5        0.         0.        ]\n",
            " [0.53699789 0.12       0.10526316 ... 0.5        1.         0.        ]\n",
            " [0.22410148 0.49481656 0.68421053 ... 0.5        1.         1.        ]]\n"
          ],
          "name": "stdout"
        }
      ]
    },
    {
      "cell_type": "markdown",
      "metadata": {
        "id": "437-Rrp1diOK"
      },
      "source": [
        "Next, sequential model is constructed with dense layer. Then, construct the dense layer with 12 neurons by specifying it with input dimension and  tanh activation function is used. Next, two dense layers are constructed with 12 neurons with tanh activation function.Finally, the  output dense layer with sigmoid activation function.\r\n"
      ]
    },
    {
      "cell_type": "code",
      "metadata": {
        "colab": {
          "base_uri": "https://localhost:8080/"
        },
        "id": "BxQdmV7SzGjL",
        "outputId": "bca6d3d1-7619-459b-cf0f-5cc348eecf8d"
      },
      "source": [
        "First_Layer_Size=12\r\n",
        "model=Sequential()\r\n",
        "model.add(Dense(First_Layer_Size,activation='tanh',input_dim=12))\r\n",
        "model.add(Dense(First_Layer_Size,activation='tanh'))\r\n",
        "model.add(Dense(First_Layer_Size,activation='tanh'))\r\n",
        "model.add(Dense(1,activation='sigmoid'))\r\n",
        "model.summary()"
      ],
      "execution_count": 74,
      "outputs": [
        {
          "output_type": "stream",
          "text": [
            "Model: \"sequential_5\"\n",
            "_________________________________________________________________\n",
            "Layer (type)                 Output Shape              Param #   \n",
            "=================================================================\n",
            "dense_20 (Dense)             (None, 12)                156       \n",
            "_________________________________________________________________\n",
            "dense_21 (Dense)             (None, 12)                156       \n",
            "_________________________________________________________________\n",
            "dense_22 (Dense)             (None, 12)                156       \n",
            "_________________________________________________________________\n",
            "dense_23 (Dense)             (None, 1)                 13        \n",
            "=================================================================\n",
            "Total params: 481\n",
            "Trainable params: 481\n",
            "Non-trainable params: 0\n",
            "_________________________________________________________________\n"
          ],
          "name": "stdout"
        }
      ]
    },
    {
      "cell_type": "markdown",
      "metadata": {
        "id": "XsY5FGavg7Aw"
      },
      "source": [
        "Complie the model as it is binary classification use loss function as binary crossentropy, set adam as optimizer and also use accuracy as metrics function."
      ]
    },
    {
      "cell_type": "code",
      "metadata": {
        "id": "xSCAZmjJ0DX5"
      },
      "source": [
        "model.compile(loss='binary_crossentropy',optimizer='adam',metrics=['accuracy'])"
      ],
      "execution_count": 75,
      "outputs": []
    },
    {
      "cell_type": "markdown",
      "metadata": {
        "id": "otaI3cXrhzvs"
      },
      "source": [
        "Next, train the model with training dataset."
      ]
    },
    {
      "cell_type": "code",
      "metadata": {
        "colab": {
          "base_uri": "https://localhost:8080/"
        },
        "id": "3IgBRfWk0gZj",
        "outputId": "f979fe2d-9e65-43a2-d057-12e285bafd8b"
      },
      "source": [
        "history=model.fit(X_train,y_train,batch_size=1,epochs=10,verbose=1)"
      ],
      "execution_count": 77,
      "outputs": [
        {
          "output_type": "stream",
          "text": [
            "Epoch 1/10\n",
            "1600/1600 [==============================] - 2s 1ms/step - loss: 0.4493 - accuracy: 0.7956\n",
            "Epoch 2/10\n",
            "1600/1600 [==============================] - 2s 1ms/step - loss: 0.4405 - accuracy: 0.7950\n",
            "Epoch 3/10\n",
            "1600/1600 [==============================] - 2s 1ms/step - loss: 0.4389 - accuracy: 0.8006\n",
            "Epoch 4/10\n",
            "1600/1600 [==============================] - 2s 1ms/step - loss: 0.4291 - accuracy: 0.8081\n",
            "Epoch 5/10\n",
            "1600/1600 [==============================] - 2s 1ms/step - loss: 0.4209 - accuracy: 0.8062\n",
            "Epoch 6/10\n",
            "1600/1600 [==============================] - 2s 1ms/step - loss: 0.4160 - accuracy: 0.8150\n",
            "Epoch 7/10\n",
            "1600/1600 [==============================] - 2s 1ms/step - loss: 0.4087 - accuracy: 0.8238\n",
            "Epoch 8/10\n",
            "1600/1600 [==============================] - 2s 1ms/step - loss: 0.4062 - accuracy: 0.8213\n",
            "Epoch 9/10\n",
            "1600/1600 [==============================] - 2s 1ms/step - loss: 0.4050 - accuracy: 0.8156\n",
            "Epoch 10/10\n",
            "1600/1600 [==============================] - 2s 1ms/step - loss: 0.3895 - accuracy: 0.8263\n"
          ],
          "name": "stdout"
        }
      ]
    },
    {
      "cell_type": "markdown",
      "metadata": {
        "id": "u-BT8l3tiGik"
      },
      "source": [
        "Now, evaluate the model with test dataset.This will return loss and accuracy of the model."
      ]
    },
    {
      "cell_type": "code",
      "metadata": {
        "colab": {
          "base_uri": "https://localhost:8080/"
        },
        "id": "Uj2xVL0I0twE",
        "outputId": "20fe248a-1cf8-4266-b8b8-f80f74b08627"
      },
      "source": [
        "score=model.evaluate(X_test,y_test,verbose=1)\r\n",
        "print('Test loss: ',score[0])\r\n",
        "print('Test accuracy: ',score[1])"
      ],
      "execution_count": 79,
      "outputs": [
        {
          "output_type": "stream",
          "text": [
            "13/13 [==============================] - 0s 1ms/step - loss: 0.3679 - accuracy: 0.8425\n",
            "Test loss:  0.36788803339004517\n",
            "Test accuracy:  0.8424999713897705\n"
          ],
          "name": "stdout"
        }
      ]
    },
    {
      "cell_type": "markdown",
      "metadata": {
        "id": "iwNl3G3HicN1"
      },
      "source": [
        "Finally, predicts the outcome of the model and compare it with expected output."
      ]
    },
    {
      "cell_type": "code",
      "metadata": {
        "colab": {
          "base_uri": "https://localhost:8080/"
        },
        "id": "R0tHJ_QBF8Vw",
        "outputId": "7d860763-b87b-453a-e934-e16f69c28588"
      },
      "source": [
        "prediction=model.predict_classes(X_test)\r\n",
        "c=0\r\n",
        "for i in range(len(X_test)):\r\n",
        "  if prediction[i]==y_test[i]:\r\n",
        "    c=c+1\r\n",
        "print(c)\r\n"
      ],
      "execution_count": 80,
      "outputs": [
        {
          "output_type": "stream",
          "text": [
            "337\n"
          ],
          "name": "stdout"
        }
      ]
    },
    {
      "cell_type": "code",
      "metadata": {
        "id": "LsUUYpgmZX0M"
      },
      "source": [
        ""
      ],
      "execution_count": null,
      "outputs": []
    }
  ]
}